{
 "cells": [
  {
   "cell_type": "markdown",
   "metadata": {},
   "source": [
    "# SQL Subqueries - Lab\n",
    "\n",
    "## Introduction\n",
    "\n",
    "Now that you've seen how subqueries work, it's time to get some practice writing them! Not all of the queries will require subqueries, but all will be a bit more complex and require some thought and review about aggregates, grouping, ordering, filtering, joins and subqueries. Good luck!  \n",
    "\n",
    "## Objectives\n",
    "\n",
    "You will be able to:\n",
    "\n",
    "* Write subqueries to decompose complex queries\n",
    "\n",
    "## CRM Database Schema\n",
    "\n",
    "Once again, here's the schema for the CRM database you'll continue to practice with.\n",
    "\n",
    "<img src=\"images/Database-Schema.png\" width=\"600\">\n",
    "\n",
    "## Connect to the Database\n",
    "\n",
    "As usual, start by importing the necessary packages and connecting to the database **data.sqlite**."
   ]
  },
  {
   "cell_type": "code",
   "execution_count": 1,
   "metadata": {},
   "outputs": [],
   "source": [
    "#Your code here; import the necessary packages\n",
    "import sqlite3\n",
    "import pandas as pd"
   ]
  },
  {
   "cell_type": "code",
   "execution_count": 2,
   "metadata": {},
   "outputs": [],
   "source": [
    "#Your code here; create the connection and cursor\n",
    "conn = sqlite3.Connection('data.sqlite')\n",
    "c = conn.cursor()"
   ]
  },
  {
   "cell_type": "markdown",
   "metadata": {},
   "source": [
    "## Write an Equivalent Query using a Subquery\n",
    "\n",
    "```SQL\n",
    "select customerNumber,\n",
    "       contactLastName,\n",
    "       contactFirstName\n",
    "       from customers\n",
    "       join orders \n",
    "       using(customerNumber)\n",
    "       where orderDate = '2003-01-31';\n",
    "```"
   ]
  },
  {
   "cell_type": "code",
   "execution_count": 4,
   "metadata": {},
   "outputs": [
    {
     "data": {
      "text/plain": [
       "[('141', 'Freyre', 'Diego ')]"
      ]
     },
     "execution_count": 4,
     "metadata": {},
     "output_type": "execute_result"
    }
   ],
   "source": [
    "#Your code here; use a subquery. No join will be necessary.\n",
    "\n",
    "c.execute('''select customerNumber, contactLastName, contactFirstName \n",
    "                    from customers where customerNumber in\n",
    "                    (select customerNumber from orders where orderDate = '2003-01-31')''').fetchall()"
   ]
  },
  {
   "cell_type": "markdown",
   "metadata": {},
   "source": [
    "## Select the Total Number of Orders for Each Product Name\n",
    "\n",
    "Sort the results by the total number of items sold for that product."
   ]
  },
  {
   "cell_type": "code",
   "execution_count": 18,
   "metadata": {
    "scrolled": true
   },
   "outputs": [
    {
     "data": {
      "text/plain": [
       "[('1969 Dodge Charger', '97'),\n",
       " ('1969 Dodge Super Bee', '90'),\n",
       " ('America West Airlines B757-200', '85'),\n",
       " ('1970 Plymouth Hemi Cuda', '77'),\n",
       " ('F/A 18 Hornet 1/72', '77'),\n",
       " ('1917 Grand Touring Sedan', '76'),\n",
       " ('1949 Jaguar XK 120', '76'),\n",
       " ('1956 Porsche 356A Coupe', '76'),\n",
       " ('1962 Volkswagen Microbus', '70'),\n",
       " ('1932 Alfa Romeo 8C2300 Spider Sport', '66'),\n",
       " ('1957 Ford Thunderbird', '66'),\n",
       " ('1969 Harley Davidson Ultimate Chopper', '66'),\n",
       " ('2002 Suzuki XREO', '66'),\n",
       " ('2003 Harley-Davidson Eagle Drag Bike', '66'),\n",
       " ('1937 Lincoln Berline', '65'),\n",
       " ('1948 Porsche Type 356 Roadster', '65'),\n",
       " ('1966 Shelby Cobra 427 S/C', '64'),\n",
       " ('1968 Ford Mustang', '64'),\n",
       " ('1972 Alfa Romeo GTA', '64'),\n",
       " ('Corsair F4U ( Bird Cage)', '64'),\n",
       " ('1928 Ford Phaeton Deluxe', '62'),\n",
       " ('1939 Chevrolet Deluxe Coupe', '61'),\n",
       " ('1948 Porsche 356-A Roadster', '61'),\n",
       " ('1993 Mazda RX-7', '61'),\n",
       " ('1912 Ford Model T Delivery Wagon', '60'),\n",
       " ('1970 Chevy Chevelle SS 454', '60'),\n",
       " ('1992 Ferrari 360 Spider red', '60'),\n",
       " ('1932 Model A Ford J-Coupe', '6'),\n",
       " ('1952 Citroen-15CV', '59'),\n",
       " ('1960 BSA Gold Star DBD34', '59'),\n",
       " ('1965 Aston Martin DB5', '59'),\n",
       " ('1941 Chevrolet Special Deluxe Cabriolet', '58'),\n",
       " ('1997 BMW R 1100 S', '57'),\n",
       " ('1904 Buick Runabout', '56'),\n",
       " ('1928 Mercedes-Benz SSK', '56'),\n",
       " ('1930 Buick Marquette Phaeton', '56'),\n",
       " ('1964 Mercedes Tour Bus', '56'),\n",
       " ('1900s Vintage Bi-Plane', '55'),\n",
       " ('1936 Harley Davidson El Knucklehead', '55'),\n",
       " ('1970 Dodge Coronet', '55'),\n",
       " ('1971 Alpine Renault 1600s', '55'),\n",
       " ('1976 Ford Gran Torino', '55'),\n",
       " ('1997 BMW F650 ST', '55'),\n",
       " ('1999 Indy 500 Monte Carlo SS', '55'),\n",
       " ('HMS Bounty', '55'),\n",
       " ('1940 Ford Pickup Truck', '54'),\n",
       " ('1957 Chevy Pickup', '54'),\n",
       " ('1934 Ford V8 Coupe', '53'),\n",
       " ('1900s Vintage Tri-Plane', '52'),\n",
       " ('1982 Ducati 900 Monster', '52'),\n",
       " ('1940 Ford Delivery Sedan', '51'),\n",
       " ('1962 City of Detroit Streetcar', '51'),\n",
       " ('1996 Moto Guzzi 1100i', '51'),\n",
       " ('18th century schooner', '50'),\n",
       " ('1911 Ford Town Car', '50'),\n",
       " ('1913 Ford Model T Speedster', '50'),\n",
       " ('1917 Maxwell Touring Car', '50'),\n",
       " ('1926 Ford Fire Engine', '50'),\n",
       " ('1936 Chrysler Airflow', '50'),\n",
       " ('1939 Cadillac Limousine', '50'),\n",
       " ('1940s Ford truck', '50'),\n",
       " ('1952 Alpine Renault 1300', '50'),\n",
       " ('1954 Greyhound Scenicruiser', '50'),\n",
       " ('1957 Corvette Convertible', '50'),\n",
       " ('1961 Chevrolet Impala', '50'),\n",
       " ('1962 LanciaA Delta 16V', '50'),\n",
       " ('1969 Ford Falcon', '50'),\n",
       " ('1970 Triumph Spitfire', '50'),\n",
       " ('1974 Ducati 350 Mk3 Desmo', '50'),\n",
       " ('1980s Black Hawk Helicopter', '50'),\n",
       " ('1982 Camaro Z28', '50'),\n",
       " ('1998 Chrysler Plymouth Prowler', '50'),\n",
       " ('2002 Yamaha YZR M1', '50'),\n",
       " ('ATA: B757-300', '50'),\n",
       " ('American Airlines: MD-11S', '50'),\n",
       " ('Boeing X-32A JSF', '50'),\n",
       " ('Collectable Wooden Train', '50'),\n",
       " ('P-51-D Mustang', '50'),\n",
       " ('Pont Yacht', '50'),\n",
       " ('The Mayflower', '50'),\n",
       " ('The Queen Mary', '50'),\n",
       " ('The Schooner Bluenose', '50'),\n",
       " ('The Titanic', '50'),\n",
       " ('The USS Constitution Ship', '50'),\n",
       " ('18th Century Vintage Horse Carriage', '49'),\n",
       " ('1903 Ford Model A', '49'),\n",
       " ('1928 British Royal Navy Airplane', '49'),\n",
       " ('1936 Mercedes Benz 500k Roadster', '49'),\n",
       " ('1936 Mercedes-Benz 500K Special Roadster', '49'),\n",
       " ('1938 Cadillac V-16 Presidential Limousine', '49'),\n",
       " (\"1950's Chicago Surface Lines Streetcar\", '49'),\n",
       " ('1958 Chevy Corvette Limited Edition', '49'),\n",
       " ('1958 Setra Bus', '49'),\n",
       " ('1969 Chevrolet Camaro Z28', '49'),\n",
       " ('1969 Corvair Monza', '49'),\n",
       " ('1980’s GM Manhattan Express', '49'),\n",
       " ('1992 Porsche Cayenne Turbo Silver', '49'),\n",
       " ('1995 Honda Civic', '49'),\n",
       " ('1996 Peterbilt 379 Stake Bed with Outrigger', '49'),\n",
       " ('1999 Yamaha Speed Boat', '49'),\n",
       " ('2002 Chevy Corvette', '49'),\n",
       " ('Diamond T620 Semi-Skirted Tanker', '49'),\n",
       " ('1957 Vespa GS150', '48'),\n",
       " ('1968 Dodge Charger', '48'),\n",
       " ('1982 Ducati 996 R', '48'),\n",
       " ('1982 Lamborghini Diablo', '48'),\n",
       " ('2001 Ferrari Enzo', '48'),\n",
       " ('American Airlines: B767-300', '48'),\n",
       " ('1937 Horch 930V Limousine', '47')]"
      ]
     },
     "execution_count": 18,
     "metadata": {},
     "output_type": "execute_result"
    }
   ],
   "source": [
    "#Your code here\n",
    "\n",
    "c.execute('''select productName, quantityOrdered \n",
    "                    from products join orderdetails using(productCode) group by 1 order by 2 DESC''').fetchall()\n",
    "\n",
    "# c.execute('''select productName, quantityOrdered from products\n",
    "#                     where quantityOrdered in (select quantityOrdered from orderdetails) group by 1''')"
   ]
  },
  {
   "cell_type": "markdown",
   "metadata": {},
   "source": [
    "## Select the Product Name and the  Total Number of People Who Have Ordered Each Product\n",
    "\n",
    "Sort the results in descending order."
   ]
  },
  {
   "cell_type": "code",
   "execution_count": 24,
   "metadata": {
    "scrolled": true
   },
   "outputs": [
    {
     "data": {
      "text/plain": [
       "[('18th Century Vintage Horse Carriage', 28),\n",
       " ('18th century schooner', 27),\n",
       " ('1900s Vintage Bi-Plane', 28),\n",
       " ('1900s Vintage Tri-Plane', 28),\n",
       " ('1903 Ford Model A', 27),\n",
       " ('1904 Buick Runabout', 27),\n",
       " ('1911 Ford Town Car', 25),\n",
       " ('1912 Ford Model T Delivery Wagon', 27),\n",
       " ('1913 Ford Model T Speedster', 28),\n",
       " ('1917 Grand Touring Sedan', 25),\n",
       " ('1917 Maxwell Touring Car', 28),\n",
       " ('1926 Ford Fire Engine', 28),\n",
       " ('1928 British Royal Navy Airplane', 28),\n",
       " ('1928 Ford Phaeton Deluxe', 28),\n",
       " ('1928 Mercedes-Benz SSK', 28),\n",
       " ('1930 Buick Marquette Phaeton', 28),\n",
       " ('1932 Alfa Romeo 8C2300 Spider Sport', 25),\n",
       " ('1932 Model A Ford J-Coupe', 28),\n",
       " ('1934 Ford V8 Coupe', 28),\n",
       " ('1936 Chrysler Airflow', 28),\n",
       " ('1936 Harley Davidson El Knucklehead', 28),\n",
       " ('1936 Mercedes Benz 500k Roadster', 25),\n",
       " ('1936 Mercedes-Benz 500K Special Roadster', 28),\n",
       " ('1937 Horch 930V Limousine', 28),\n",
       " ('1937 Lincoln Berline', 28),\n",
       " ('1938 Cadillac V-16 Presidential Limousine', 28),\n",
       " ('1939 Cadillac Limousine', 28),\n",
       " ('1939 Chevrolet Deluxe Coupe', 28),\n",
       " ('1940 Ford Delivery Sedan', 28),\n",
       " ('1940 Ford Pickup Truck', 28),\n",
       " ('1940s Ford truck', 28),\n",
       " ('1941 Chevrolet Special Deluxe Cabriolet', 28),\n",
       " ('1948 Porsche 356-A Roadster', 27),\n",
       " ('1948 Porsche Type 356 Roadster', 25),\n",
       " ('1949 Jaguar XK 120', 25),\n",
       " (\"1950's Chicago Surface Lines Streetcar\", 27),\n",
       " ('1952 Alpine Renault 1300', 28),\n",
       " ('1952 Citroen-15CV', 24),\n",
       " ('1954 Greyhound Scenicruiser', 28),\n",
       " ('1956 Porsche 356A Coupe', 27),\n",
       " ('1957 Chevy Pickup', 28),\n",
       " ('1957 Corvette Convertible', 27),\n",
       " ('1957 Ford Thunderbird', 24),\n",
       " ('1957 Vespa GS150', 27),\n",
       " ('1958 Chevy Corvette Limited Edition', 28),\n",
       " ('1958 Setra Bus', 28),\n",
       " ('1960 BSA Gold Star DBD34', 28),\n",
       " ('1961 Chevrolet Impala', 27),\n",
       " ('1962 City of Detroit Streetcar', 27),\n",
       " ('1962 LanciaA Delta 16V', 28),\n",
       " ('1962 Volkswagen Microbus', 28),\n",
       " ('1964 Mercedes Tour Bus', 28),\n",
       " ('1965 Aston Martin DB5', 25),\n",
       " ('1966 Shelby Cobra 427 S/C', 25),\n",
       " ('1968 Dodge Charger', 27),\n",
       " ('1968 Ford Mustang', 27),\n",
       " ('1969 Chevrolet Camaro Z28', 25),\n",
       " ('1969 Corvair Monza', 27),\n",
       " ('1969 Dodge Charger', 27),\n",
       " ('1969 Dodge Super Bee', 27),\n",
       " ('1969 Ford Falcon', 27),\n",
       " ('1969 Harley Davidson Ultimate Chopper', 28),\n",
       " ('1970 Chevy Chevelle SS 454', 25),\n",
       " ('1970 Dodge Coronet', 28),\n",
       " ('1970 Plymouth Hemi Cuda', 27),\n",
       " ('1970 Triumph Spitfire', 27),\n",
       " ('1971 Alpine Renault 1600s', 27),\n",
       " ('1972 Alfa Romeo GTA', 28),\n",
       " ('1974 Ducati 350 Mk3 Desmo', 27),\n",
       " ('1976 Ford Gran Torino', 27),\n",
       " ('1980s Black Hawk Helicopter', 28),\n",
       " ('1980’s GM Manhattan Express', 28),\n",
       " ('1982 Camaro Z28', 28),\n",
       " ('1982 Ducati 900 Monster', 27),\n",
       " ('1982 Ducati 996 R', 27),\n",
       " ('1982 Lamborghini Diablo', 27),\n",
       " ('1992 Ferrari 360 Spider red', 53),\n",
       " ('1992 Porsche Cayenne Turbo Silver', 27),\n",
       " ('1993 Mazda RX-7', 27),\n",
       " ('1995 Honda Civic', 27),\n",
       " ('1996 Moto Guzzi 1100i', 28),\n",
       " ('1996 Peterbilt 379 Stake Bed with Outrigger', 28),\n",
       " ('1997 BMW F650 ST', 28),\n",
       " ('1997 BMW R 1100 S', 28),\n",
       " ('1998 Chrysler Plymouth Prowler', 28),\n",
       " ('1999 Indy 500 Monte Carlo SS', 25),\n",
       " ('1999 Yamaha Speed Boat', 28),\n",
       " ('2001 Ferrari Enzo', 27),\n",
       " ('2002 Chevy Corvette', 25),\n",
       " ('2002 Suzuki XREO', 28),\n",
       " ('2002 Yamaha YZR M1', 27),\n",
       " ('2003 Harley-Davidson Eagle Drag Bike', 28),\n",
       " ('ATA: B757-300', 28),\n",
       " ('America West Airlines B757-200', 28),\n",
       " ('American Airlines: B767-300', 28),\n",
       " ('American Airlines: MD-11S', 28),\n",
       " ('Boeing X-32A JSF', 28),\n",
       " ('Collectable Wooden Train', 27),\n",
       " ('Corsair F4U ( Bird Cage)', 28),\n",
       " ('Diamond T620 Semi-Skirted Tanker', 28),\n",
       " ('F/A 18 Hornet 1/72', 28),\n",
       " ('HMS Bounty', 28),\n",
       " ('P-51-D Mustang', 28),\n",
       " ('Pont Yacht', 27),\n",
       " ('The Mayflower', 27),\n",
       " ('The Queen Mary', 27),\n",
       " ('The Schooner Bluenose', 27),\n",
       " ('The Titanic', 27),\n",
       " ('The USS Constitution Ship', 27)]"
      ]
     },
     "execution_count": 24,
     "metadata": {},
     "output_type": "execute_result"
    }
   ],
   "source": [
    "#Your code here\n",
    "c.execute('''select productName, count(customerNumber) from products\n",
    "                    join orderdetails using(productCode)\n",
    "                    join orders using(orderNumber) group by 1''').fetchall()"
   ]
  },
  {
   "cell_type": "markdown",
   "metadata": {},
   "source": [
    "## Select the Employee Number, Office Code, City (of the office), and Name (First and Last) of those Employees who Sold Products that Have Been Ordered by Less Then 20 people.\n",
    "\n",
    "This problem is a bit tougher. To start, think about how you might break the problem up. Be sure that your results only list each employee once."
   ]
  },
  {
   "cell_type": "code",
   "execution_count": null,
   "metadata": {},
   "outputs": [],
   "source": [
    "#Your code here\n",
    "\n",
    "c.execute('''select ''')"
   ]
  },
  {
   "cell_type": "markdown",
   "metadata": {},
   "source": [
    "## Select the Employee Number, Name (First and Last) and Number of Customers of Employees Who's Customers Have an Average Credit Limit of Over 15K"
   ]
  },
  {
   "cell_type": "code",
   "execution_count": null,
   "metadata": {},
   "outputs": [],
   "source": [
    "#Your code here"
   ]
  },
  {
   "cell_type": "markdown",
   "metadata": {},
   "source": [
    "## Summary\n",
    "\n",
    "In this lesson, you got to practice some more complex SQL queries, some of which required subqueries. There's still plenty more SQL to be had though; hope you've been enjoying some of these puzzles!"
   ]
  }
 ],
 "metadata": {
  "kernelspec": {
   "display_name": "Python 3",
   "language": "python",
   "name": "python3"
  },
  "language_info": {
   "codemirror_mode": {
    "name": "ipython",
    "version": 3
   },
   "file_extension": ".py",
   "mimetype": "text/x-python",
   "name": "python",
   "nbconvert_exporter": "python",
   "pygments_lexer": "ipython3",
   "version": "3.6.6"
  }
 },
 "nbformat": 4,
 "nbformat_minor": 2
}
